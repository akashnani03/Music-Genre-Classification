{
  "nbformat": 4,
  "nbformat_minor": 0,
  "metadata": {
    "colab": {
      "provenance": []
    },
    "kernelspec": {
      "display_name": "Python 3",
      "name": "python3"
    },
    "language_info": {
      "name": "python"
    }
  },
  "cells": [
    {
      "cell_type": "code",
      "metadata": {
        "id": "2Fh00BJtApQB"
      },
      "source": [
        "import json\n",
        "import numpy as np\n",
        "from sklearn.model_selection import train_test_split\n",
        "import tensorflow.keras as keras\n",
        "\n",
        "import matplotlib.pyplot as plt\n",
        "import random\n",
        "\n",
        "import librosa\n",
        "import math"
      ],
      "execution_count": null,
      "outputs": []
    },
    {
      "cell_type": "code",
      "source": [
        "from google.colab import drive\n",
        "drive.mount('/content/drive')"
      ],
      "metadata": {
        "colab": {
          "base_uri": "https://localhost:8080/"
        },
        "id": "HA8pRY2SMXYK",
        "outputId": "d9af481e-602b-435a-d126-238388bc4a04"
      },
      "execution_count": null,
      "outputs": [
        {
          "output_type": "stream",
          "name": "stdout",
          "text": [
            "Mounted at /content/drive\n"
          ]
        }
      ]
    },
    {
      "cell_type": "code",
      "metadata": {
        "id": "CHz2SDOpBWyo"
      },
      "source": [
        "#path to json\n",
        "DATA_PATH = \"/content/drive/MyDrive/genres-20231105T184718Z-001/genres/data_10.json\""
      ],
      "execution_count": null,
      "outputs": []
    },
    {
      "cell_type": "code",
      "metadata": {
        "id": "WJNi3MmgCPpp"
      },
      "source": [
        "def load_data(data_path):\n",
        "\n",
        "  with open(data_path,\"r\") as f:\n",
        "    data=json.load(f)\n",
        "\n",
        "  #convert lists to many arrays\n",
        "  x = np.array(data[\"mfcc\"])\n",
        "  y = np.array(data[\"labels\"])\n",
        "\n",
        "  print(\"Data successfully loaded\")\n",
        "\n",
        "  return x,y"
      ],
      "execution_count": null,
      "outputs": []
    },
    {
      "cell_type": "code",
      "metadata": {
        "id": "BhjiN1YYC31Q",
        "colab": {
          "base_uri": "https://localhost:8080/"
        },
        "outputId": "5b47c835-026a-4a2b-88c2-c5bf96e6e65f"
      },
      "source": [
        "#load data\n",
        "x,y =load_data(DATA_PATH)"
      ],
      "execution_count": null,
      "outputs": [
        {
          "output_type": "stream",
          "name": "stdout",
          "text": [
            "Data successfully loaded\n"
          ]
        }
      ]
    },
    {
      "cell_type": "code",
      "metadata": {
        "id": "yfp_P3FODabC",
        "colab": {
          "base_uri": "https://localhost:8080/"
        },
        "outputId": "e9de7c39-5e16-48c5-a383-c520895654a2"
      },
      "source": [
        "x.shape"
      ],
      "execution_count": null,
      "outputs": [
        {
          "output_type": "execute_result",
          "data": {
            "text/plain": [
              "(9986, 130, 13)"
            ]
          },
          "metadata": {},
          "execution_count": 6
        }
      ]
    },
    {
      "cell_type": "code",
      "metadata": {
        "id": "xPRTKzps1D9C"
      },
      "source": [
        "x_train,x_test,y_train,y_test=train_test_split(x,y,test_size=0.3)"
      ],
      "execution_count": null,
      "outputs": []
    },
    {
      "cell_type": "markdown",
      "metadata": {
        "id": "thb5VRAj5bCU"
      },
      "source": [
        "# **SIMPLE ANN**"
      ]
    },
    {
      "cell_type": "code",
      "metadata": {
        "id": "wU_12H6_5e34"
      },
      "source": [
        "#build network topology\n",
        "model = keras.Sequential([\n",
        "        #input layer\n",
        "        keras.layers.Flatten(input_shape=(x.shape[1],x.shape[2])),\n",
        "\n",
        "        #1st dense layer\n",
        "        keras.layers.Dense(512,activation='relu'),\n",
        "\n",
        "        #2nd dense layer\n",
        "        keras.layers.Dense(256,activation='relu'),\n",
        "\n",
        "        #3r dense layer\n",
        "        keras.layers.Dense(64,activation='relu'),\n",
        "\n",
        "        #output layer\n",
        "        keras.layers.Dense(10,activation='softmax'),\n",
        "])"
      ],
      "execution_count": null,
      "outputs": []
    },
    {
      "cell_type": "code",
      "metadata": {
        "id": "DyV4XtIQ6ZMb"
      },
      "source": [
        "#compile model\n",
        "optimiser = keras.optimizers.Adam(learning_rate=0.0001)\n",
        "model.compile(optimizer=optimiser,loss='sparse_categorical_crossentropy',metrics=['accuracy'])"
      ],
      "execution_count": null,
      "outputs": []
    },
    {
      "cell_type": "code",
      "metadata": {
        "id": "6kZcYIrw7FVu",
        "colab": {
          "base_uri": "https://localhost:8080/"
        },
        "outputId": "b92dbd11-b7df-4b0b-c5eb-807969b77e67"
      },
      "source": [
        "model.summary()"
      ],
      "execution_count": null,
      "outputs": [
        {
          "output_type": "stream",
          "name": "stdout",
          "text": [
            "Model: \"sequential\"\n",
            "_________________________________________________________________\n",
            " Layer (type)                Output Shape              Param #   \n",
            "=================================================================\n",
            " flatten (Flatten)           (None, 1690)              0         \n",
            "                                                                 \n",
            " dense (Dense)               (None, 512)               865792    \n",
            "                                                                 \n",
            " dense_1 (Dense)             (None, 256)               131328    \n",
            "                                                                 \n",
            " dense_2 (Dense)             (None, 64)                16448     \n",
            "                                                                 \n",
            " dense_3 (Dense)             (None, 10)                650       \n",
            "                                                                 \n",
            "=================================================================\n",
            "Total params: 1014218 (3.87 MB)\n",
            "Trainable params: 1014218 (3.87 MB)\n",
            "Non-trainable params: 0 (0.00 Byte)\n",
            "_________________________________________________________________\n"
          ]
        }
      ]
    },
    {
      "cell_type": "code",
      "metadata": {
        "id": "apF4_XL27IKR",
        "colab": {
          "base_uri": "https://localhost:8080/"
        },
        "outputId": "08bc3e33-842c-4f84-94c2-8c92db875f80"
      },
      "source": [
        "#train model\n",
        "history = model.fit(x_train,y_train,validation_data=(x_test,y_test),batch_size=32,epochs=50)"
      ],
      "execution_count": null,
      "outputs": [
        {
          "output_type": "stream",
          "name": "stdout",
          "text": [
            "Epoch 1/50\n",
            "219/219 [==============================] - 7s 25ms/step - loss: 10.0318 - accuracy: 0.3300 - val_loss: 5.0027 - val_accuracy: 0.3595\n",
            "Epoch 2/50\n",
            "219/219 [==============================] - 4s 17ms/step - loss: 3.6519 - accuracy: 0.4318 - val_loss: 3.8100 - val_accuracy: 0.3825\n",
            "Epoch 3/50\n",
            "219/219 [==============================] - 4s 19ms/step - loss: 2.5243 - accuracy: 0.4990 - val_loss: 3.2056 - val_accuracy: 0.4242\n",
            "Epoch 4/50\n",
            "219/219 [==============================] - 5s 22ms/step - loss: 1.9158 - accuracy: 0.5578 - val_loss: 2.8654 - val_accuracy: 0.4449\n",
            "Epoch 5/50\n",
            "219/219 [==============================] - 4s 19ms/step - loss: 1.5602 - accuracy: 0.6011 - val_loss: 2.7002 - val_accuracy: 0.4720\n",
            "Epoch 6/50\n",
            "219/219 [==============================] - 4s 19ms/step - loss: 1.2767 - accuracy: 0.6571 - val_loss: 2.7172 - val_accuracy: 0.4626\n",
            "Epoch 7/50\n",
            "219/219 [==============================] - 5s 23ms/step - loss: 1.0605 - accuracy: 0.6964 - val_loss: 2.5025 - val_accuracy: 0.4890\n",
            "Epoch 8/50\n",
            "219/219 [==============================] - 4s 17ms/step - loss: 0.9539 - accuracy: 0.7220 - val_loss: 2.4462 - val_accuracy: 0.4907\n",
            "Epoch 9/50\n",
            "219/219 [==============================] - 4s 17ms/step - loss: 0.8015 - accuracy: 0.7572 - val_loss: 2.3980 - val_accuracy: 0.4850\n",
            "Epoch 10/50\n",
            "219/219 [==============================] - 5s 23ms/step - loss: 0.6784 - accuracy: 0.7857 - val_loss: 2.5306 - val_accuracy: 0.4900\n",
            "Epoch 11/50\n",
            "219/219 [==============================] - 4s 18ms/step - loss: 0.5960 - accuracy: 0.8104 - val_loss: 2.5500 - val_accuracy: 0.4840\n",
            "Epoch 12/50\n",
            "219/219 [==============================] - 4s 17ms/step - loss: 0.5256 - accuracy: 0.8336 - val_loss: 2.3164 - val_accuracy: 0.5247\n",
            "Epoch 13/50\n",
            "219/219 [==============================] - 4s 20ms/step - loss: 0.4095 - accuracy: 0.8700 - val_loss: 2.3795 - val_accuracy: 0.5267\n",
            "Epoch 14/50\n",
            "219/219 [==============================] - 4s 20ms/step - loss: 0.4679 - accuracy: 0.8518 - val_loss: 2.6637 - val_accuracy: 0.4930\n",
            "Epoch 15/50\n",
            "219/219 [==============================] - 4s 17ms/step - loss: 0.3964 - accuracy: 0.8690 - val_loss: 2.5607 - val_accuracy: 0.5177\n",
            "Epoch 16/50\n",
            "219/219 [==============================] - 4s 18ms/step - loss: 0.2984 - accuracy: 0.8997 - val_loss: 2.4611 - val_accuracy: 0.5244\n",
            "Epoch 17/50\n",
            "219/219 [==============================] - 5s 23ms/step - loss: 0.2975 - accuracy: 0.9031 - val_loss: 2.5504 - val_accuracy: 0.5200\n",
            "Epoch 18/50\n",
            "219/219 [==============================] - 4s 18ms/step - loss: 0.2384 - accuracy: 0.9232 - val_loss: 2.4638 - val_accuracy: 0.5270\n",
            "Epoch 19/50\n",
            "219/219 [==============================] - 4s 18ms/step - loss: 0.2601 - accuracy: 0.9146 - val_loss: 2.5487 - val_accuracy: 0.5210\n",
            "Epoch 20/50\n",
            "219/219 [==============================] - 5s 22ms/step - loss: 0.2094 - accuracy: 0.9283 - val_loss: 2.5068 - val_accuracy: 0.5374\n",
            "Epoch 21/50\n",
            "219/219 [==============================] - 4s 18ms/step - loss: 0.2252 - accuracy: 0.9260 - val_loss: 2.4261 - val_accuracy: 0.5297\n",
            "Epoch 22/50\n",
            "219/219 [==============================] - 4s 18ms/step - loss: 0.2366 - accuracy: 0.9255 - val_loss: 2.8114 - val_accuracy: 0.5334\n",
            "Epoch 23/50\n",
            "219/219 [==============================] - 4s 20ms/step - loss: 0.2736 - accuracy: 0.9067 - val_loss: 2.6136 - val_accuracy: 0.5270\n",
            "Epoch 24/50\n",
            "219/219 [==============================] - 6s 27ms/step - loss: 0.2434 - accuracy: 0.9236 - val_loss: 2.5184 - val_accuracy: 0.5607\n",
            "Epoch 25/50\n",
            "219/219 [==============================] - 4s 18ms/step - loss: 0.2349 - accuracy: 0.9299 - val_loss: 2.6909 - val_accuracy: 0.5287\n",
            "Epoch 26/50\n",
            "219/219 [==============================] - 5s 21ms/step - loss: 0.2342 - accuracy: 0.9230 - val_loss: 2.5583 - val_accuracy: 0.5577\n",
            "Epoch 27/50\n",
            "219/219 [==============================] - 5s 21ms/step - loss: 0.2048 - accuracy: 0.9316 - val_loss: 2.8207 - val_accuracy: 0.5240\n",
            "Epoch 28/50\n",
            "219/219 [==============================] - 4s 19ms/step - loss: 0.1937 - accuracy: 0.9345 - val_loss: 2.5866 - val_accuracy: 0.5661\n",
            "Epoch 29/50\n",
            "219/219 [==============================] - 5s 21ms/step - loss: 0.1268 - accuracy: 0.9585 - val_loss: 2.5455 - val_accuracy: 0.5711\n",
            "Epoch 30/50\n",
            "219/219 [==============================] - 5s 22ms/step - loss: 0.0810 - accuracy: 0.9764 - val_loss: 2.5873 - val_accuracy: 0.5684\n",
            "Epoch 31/50\n",
            "219/219 [==============================] - 4s 18ms/step - loss: 0.0693 - accuracy: 0.9805 - val_loss: 2.7354 - val_accuracy: 0.5571\n",
            "Epoch 32/50\n",
            "219/219 [==============================] - 5s 21ms/step - loss: 0.1777 - accuracy: 0.9422 - val_loss: 3.3146 - val_accuracy: 0.5210\n",
            "Epoch 33/50\n",
            "219/219 [==============================] - 5s 22ms/step - loss: 0.1991 - accuracy: 0.9381 - val_loss: 2.6446 - val_accuracy: 0.5641\n",
            "Epoch 34/50\n",
            "219/219 [==============================] - 4s 19ms/step - loss: 0.1224 - accuracy: 0.9614 - val_loss: 2.7244 - val_accuracy: 0.5594\n",
            "Epoch 35/50\n",
            "219/219 [==============================] - 4s 19ms/step - loss: 0.1675 - accuracy: 0.9456 - val_loss: 3.0287 - val_accuracy: 0.5370\n",
            "Epoch 36/50\n",
            "219/219 [==============================] - 5s 22ms/step - loss: 0.1409 - accuracy: 0.9522 - val_loss: 2.5899 - val_accuracy: 0.5768\n",
            "Epoch 37/50\n",
            "219/219 [==============================] - 4s 19ms/step - loss: 0.0874 - accuracy: 0.9735 - val_loss: 2.6416 - val_accuracy: 0.5881\n",
            "Epoch 38/50\n",
            "219/219 [==============================] - 4s 17ms/step - loss: 0.0363 - accuracy: 0.9897 - val_loss: 2.6488 - val_accuracy: 0.5814\n",
            "Epoch 39/50\n",
            "219/219 [==============================] - 5s 23ms/step - loss: 0.0761 - accuracy: 0.9748 - val_loss: 2.7019 - val_accuracy: 0.5831\n",
            "Epoch 40/50\n",
            "219/219 [==============================] - 4s 18ms/step - loss: 0.0576 - accuracy: 0.9828 - val_loss: 2.7513 - val_accuracy: 0.5791\n",
            "Epoch 41/50\n",
            "219/219 [==============================] - 4s 17ms/step - loss: 0.1385 - accuracy: 0.9539 - val_loss: 2.9383 - val_accuracy: 0.5654\n",
            "Epoch 42/50\n",
            "219/219 [==============================] - 5s 21ms/step - loss: 0.3080 - accuracy: 0.9046 - val_loss: 2.7366 - val_accuracy: 0.5701\n",
            "Epoch 43/50\n",
            "219/219 [==============================] - 4s 18ms/step - loss: 0.1198 - accuracy: 0.9604 - val_loss: 2.9014 - val_accuracy: 0.5771\n",
            "Epoch 44/50\n",
            "219/219 [==============================] - 4s 17ms/step - loss: 0.0859 - accuracy: 0.9725 - val_loss: 2.8231 - val_accuracy: 0.5861\n",
            "Epoch 45/50\n",
            "219/219 [==============================] - 4s 18ms/step - loss: 0.0773 - accuracy: 0.9767 - val_loss: 2.7390 - val_accuracy: 0.5921\n",
            "Epoch 46/50\n",
            "219/219 [==============================] - 5s 23ms/step - loss: 0.0230 - accuracy: 0.9944 - val_loss: 2.8027 - val_accuracy: 0.6018\n",
            "Epoch 47/50\n",
            "219/219 [==============================] - 4s 19ms/step - loss: 0.0166 - accuracy: 0.9971 - val_loss: 2.7250 - val_accuracy: 0.5945\n",
            "Epoch 48/50\n",
            "219/219 [==============================] - 4s 18ms/step - loss: 0.0455 - accuracy: 0.9867 - val_loss: 3.3228 - val_accuracy: 0.5514\n",
            "Epoch 49/50\n",
            "219/219 [==============================] - 5s 24ms/step - loss: 0.2800 - accuracy: 0.9162 - val_loss: 3.3266 - val_accuracy: 0.5624\n",
            "Epoch 50/50\n",
            "219/219 [==============================] - 4s 18ms/step - loss: 0.1900 - accuracy: 0.9389 - val_loss: 3.1517 - val_accuracy: 0.5557\n"
          ]
        }
      ]
    },
    {
      "cell_type": "code",
      "metadata": {
        "id": "Ibn3SCjUEct9"
      },
      "source": [
        "model.save(\"Ann\")"
      ],
      "execution_count": null,
      "outputs": []
    },
    {
      "cell_type": "code",
      "metadata": {
        "id": "TvUXuKvW7ai0"
      },
      "source": [
        "def plot_history(history):\n",
        "  fig,axs=plt.subplots(2)\n",
        "\n",
        "  #create accuracy subplots\n",
        "  axs[0].plot(history.history['accuracy'],label=\"train accuracy\")\n",
        "  axs[0].plot(history.history['val_accuracy'],label=\"validation accuracy\")\n",
        "  axs[0].set_ylabel(\"Accuracy\")\n",
        "  axs[0].legend(loc=\"lower right\")\n",
        "  axs[0].set_title(\"Accuracy eval\")\n",
        "\n",
        "  #create error subplot\n",
        "  axs[1].plot(history.history['loss'],label=\"train error\")\n",
        "  axs[1].plot(history.history['val_loss'],label=\"validation error\")\n",
        "  axs[1].set_ylabel(\"Error\")\n",
        "  axs[1].set_xlabel(\"Epoch\")\n",
        "  axs[1].legend(loc=\"upper right\")\n",
        "  axs[1].set_title(\"Error eval\")"
      ],
      "execution_count": null,
      "outputs": []
    },
    {
      "cell_type": "code",
      "metadata": {
        "id": "5YLXR_nb8Tcm",
        "colab": {
          "base_uri": "https://localhost:8080/",
          "height": 472
        },
        "outputId": "24f3e164-c79e-4c7b-9415-6bc6c29eeb72"
      },
      "source": [
        "plot_history(history)"
      ],
      "execution_count": null,
      "outputs": [
        {
          "output_type": "display_data",
          "data": {
            "text/plain": [
              "<Figure size 640x480 with 2 Axes>"
            ],
            "image/png": "[encoded data removed]"
          },
          "metadata": {}
        }
      ]
    },
    {
      "cell_type": "markdown",
      "metadata": {
        "id": "Tf5hNZan8Yz1"
      },
      "source": [
        "# **MANAGING OVERFITTING**\n",
        "\n",
        "> Indented block\n",
        "\n"
      ]
    },
    {
      "cell_type": "code",
      "metadata": {
        "id": "e_FYXs2p8X1c"
      },
      "source": [
        "#build network topology\n",
        "model_regularized= keras.Sequential([\n",
        "        #input layer\n",
        "        keras.layers.Flatten(input_shape=(x.shape[1],x.shape[2])),\n",
        "\n",
        "        #1st dense layer\n",
        "        keras.layers.Dense(512,activation='relu',kernel_regularizer=keras.regularizers.l2(0.001)),\n",
        "        keras.layers.Dropout(0.3),\n",
        "\n",
        "        #2nd dense layer\n",
        "        keras.layers.Dense(256,activation='relu',kernel_regularizer=keras.regularizers.l2(0.001)),\n",
        "        keras.layers.Dropout(0.3),\n",
        "\n",
        "        #3r dense layer\n",
        "        keras.layers.Dense(64,activation='relu',kernel_regularizer=keras.regularizers.l2(0.001)),\n",
        "        keras.layers.Dropout(0.3),\n",
        "\n",
        "        #output layer\n",
        "        keras.layers.Dense(10,activation='softmax'),\n",
        "])"
      ],
      "execution_count": null,
      "outputs": []
    },
    {
      "cell_type": "code",
      "metadata": {
        "id": "GDIIwEJh9SqD"
      },
      "source": [
        "#compile model\n",
        "optimiser = keras.optimizers.Adam(learning_rate=0.0001)\n",
        "model_regularized.compile(optimizer=optimiser,loss='sparse_categorical_crossentropy',metrics=['accuracy'])"
      ],
      "execution_count": null,
      "outputs": []
    },
    {
      "cell_type": "code",
      "metadata": {
        "id": "GEbOgZ8x9cyt",
        "colab": {
          "base_uri": "https://localhost:8080/"
        },
        "outputId": "17455e15-2625-4e36-dfa7-76bcd661f303"
      },
      "source": [
        "#train model\n",
        "history = model_regularized.fit(x_train,y_train,validation_data=(x_test,y_test),batch_size=32,epochs=50)"
      ],
      "execution_count": null,
      "outputs": [
        {
          "output_type": "stream",
          "name": "stdout",
          "text": [
            "Epoch 1/50\n",
            "219/219 [==============================] - 7s 26ms/step - loss: 23.3042 - accuracy: 0.1552 - val_loss: 3.4744 - val_accuracy: 0.1822\n",
            "Epoch 2/50\n",
            "219/219 [==============================] - 5s 22ms/step - loss: 6.0082 - accuracy: 0.1594 - val_loss: 3.4656 - val_accuracy: 0.1602\n",
            "Epoch 3/50\n",
            "219/219 [==============================] - 5s 21ms/step - loss: 4.2973 - accuracy: 0.1422 - val_loss: 3.4374 - val_accuracy: 0.1595\n",
            "Epoch 4/50\n",
            "219/219 [==============================] - 4s 18ms/step - loss: 3.8771 - accuracy: 0.1531 - val_loss: 3.4180 - val_accuracy: 0.1629\n",
            "Epoch 5/50\n",
            "219/219 [==============================] - 5s 24ms/step - loss: 3.7177 - accuracy: 0.1489 - val_loss: 3.4133 - val_accuracy: 0.1622\n",
            "Epoch 6/50\n",
            "219/219 [==============================] - 5s 23ms/step - loss: 3.5914 - accuracy: 0.1526 - val_loss: 3.4128 - val_accuracy: 0.1612\n",
            "Epoch 7/50\n",
            "219/219 [==============================] - 4s 20ms/step - loss: 3.5665 - accuracy: 0.1518 - val_loss: 3.3961 - val_accuracy: 0.1666\n",
            "Epoch 8/50\n",
            "219/219 [==============================] - 5s 24ms/step - loss: 3.5073 - accuracy: 0.1582 - val_loss: 3.3789 - val_accuracy: 0.1742\n",
            "Epoch 9/50\n",
            "219/219 [==============================] - 5s 21ms/step - loss: 3.4591 - accuracy: 0.1624 - val_loss: 3.3614 - val_accuracy: 0.1762\n",
            "Epoch 10/50\n",
            "219/219 [==============================] - 4s 20ms/step - loss: 3.4239 - accuracy: 0.1698 - val_loss: 3.3174 - val_accuracy: 0.1933\n",
            "Epoch 11/50\n",
            "219/219 [==============================] - 5s 25ms/step - loss: 3.3966 - accuracy: 0.1778 - val_loss: 3.3009 - val_accuracy: 0.1976\n",
            "Epoch 12/50\n",
            "219/219 [==============================] - 5s 21ms/step - loss: 3.3777 - accuracy: 0.1821 - val_loss: 3.3157 - val_accuracy: 0.1846\n",
            "Epoch 13/50\n",
            "219/219 [==============================] - 4s 19ms/step - loss: 3.3569 - accuracy: 0.1871 - val_loss: 3.2482 - val_accuracy: 0.2023\n",
            "Epoch 14/50\n",
            "219/219 [==============================] - 5s 25ms/step - loss: 3.3234 - accuracy: 0.1840 - val_loss: 3.2686 - val_accuracy: 0.1812\n",
            "Epoch 15/50\n",
            "219/219 [==============================] - 4s 20ms/step - loss: 3.3111 - accuracy: 0.1870 - val_loss: 3.2323 - val_accuracy: 0.1946\n",
            "Epoch 16/50\n",
            "219/219 [==============================] - 4s 19ms/step - loss: 3.2777 - accuracy: 0.1920 - val_loss: 3.2155 - val_accuracy: 0.2039\n",
            "Epoch 17/50\n",
            "219/219 [==============================] - 6s 26ms/step - loss: 3.2531 - accuracy: 0.2109 - val_loss: 3.1465 - val_accuracy: 0.2480\n",
            "Epoch 18/50\n",
            "219/219 [==============================] - 4s 20ms/step - loss: 3.2184 - accuracy: 0.2107 - val_loss: 3.1714 - val_accuracy: 0.2256\n",
            "Epoch 19/50\n",
            "219/219 [==============================] - 4s 20ms/step - loss: 3.2126 - accuracy: 0.2142 - val_loss: 3.1454 - val_accuracy: 0.2363\n",
            "Epoch 20/50\n",
            "219/219 [==============================] - 6s 26ms/step - loss: 3.1769 - accuracy: 0.2250 - val_loss: 3.0816 - val_accuracy: 0.2553\n",
            "Epoch 21/50\n",
            "219/219 [==============================] - 4s 20ms/step - loss: 3.1460 - accuracy: 0.2343 - val_loss: 3.0651 - val_accuracy: 0.2563\n",
            "Epoch 22/50\n",
            "219/219 [==============================] - 4s 19ms/step - loss: 3.1289 - accuracy: 0.2361 - val_loss: 3.0475 - val_accuracy: 0.2560\n",
            "Epoch 23/50\n",
            "219/219 [==============================] - 5s 25ms/step - loss: 3.0954 - accuracy: 0.2356 - val_loss: 3.0488 - val_accuracy: 0.2483\n",
            "Epoch 24/50\n",
            "219/219 [==============================] - 4s 20ms/step - loss: 3.0721 - accuracy: 0.2402 - val_loss: 3.0172 - val_accuracy: 0.2567\n",
            "Epoch 25/50\n",
            "219/219 [==============================] - 4s 20ms/step - loss: 3.0333 - accuracy: 0.2498 - val_loss: 3.0293 - val_accuracy: 0.2450\n",
            "Epoch 26/50\n",
            "219/219 [==============================] - 6s 27ms/step - loss: 3.0006 - accuracy: 0.2559 - val_loss: 2.9636 - val_accuracy: 0.2620\n",
            "Epoch 27/50\n",
            "219/219 [==============================] - 4s 19ms/step - loss: 2.9793 - accuracy: 0.2615 - val_loss: 2.9121 - val_accuracy: 0.2767\n",
            "Epoch 28/50\n",
            "219/219 [==============================] - 4s 20ms/step - loss: 2.9438 - accuracy: 0.2658 - val_loss: 2.9274 - val_accuracy: 0.2674\n",
            "Epoch 29/50\n",
            "219/219 [==============================] - 6s 26ms/step - loss: 2.9291 - accuracy: 0.2592 - val_loss: 2.8796 - val_accuracy: 0.2690\n",
            "Epoch 30/50\n",
            "219/219 [==============================] - 4s 19ms/step - loss: 2.9180 - accuracy: 0.2682 - val_loss: 2.8320 - val_accuracy: 0.2921\n",
            "Epoch 31/50\n",
            "219/219 [==============================] - 5s 21ms/step - loss: 2.8602 - accuracy: 0.2770 - val_loss: 2.8209 - val_accuracy: 0.2921\n",
            "Epoch 32/50\n",
            "219/219 [==============================] - 5s 24ms/step - loss: 2.8373 - accuracy: 0.2774 - val_loss: 2.7958 - val_accuracy: 0.2954\n",
            "Epoch 33/50\n",
            "219/219 [==============================] - 4s 20ms/step - loss: 2.8062 - accuracy: 0.2804 - val_loss: 2.7414 - val_accuracy: 0.2974\n",
            "Epoch 34/50\n",
            "219/219 [==============================] - 4s 20ms/step - loss: 2.7784 - accuracy: 0.2840 - val_loss: 2.7348 - val_accuracy: 0.3041\n",
            "Epoch 35/50\n",
            "219/219 [==============================] - 5s 24ms/step - loss: 2.7513 - accuracy: 0.2853 - val_loss: 2.7384 - val_accuracy: 0.2931\n",
            "Epoch 36/50\n",
            "219/219 [==============================] - 6s 27ms/step - loss: 2.7160 - accuracy: 0.2908 - val_loss: 2.6844 - val_accuracy: 0.3154\n",
            "Epoch 37/50\n",
            "219/219 [==============================] - 7s 30ms/step - loss: 2.6956 - accuracy: 0.2924 - val_loss: 2.6559 - val_accuracy: 0.3117\n",
            "Epoch 38/50\n",
            "219/219 [==============================] - 4s 20ms/step - loss: 2.6671 - accuracy: 0.3006 - val_loss: 2.6167 - val_accuracy: 0.3178\n",
            "Epoch 39/50\n",
            "219/219 [==============================] - 5s 21ms/step - loss: 2.6249 - accuracy: 0.3097 - val_loss: 2.6165 - val_accuracy: 0.3087\n",
            "Epoch 40/50\n",
            "219/219 [==============================] - 7s 33ms/step - loss: 2.6071 - accuracy: 0.3021 - val_loss: 2.5799 - val_accuracy: 0.3128\n",
            "Epoch 41/50\n",
            "219/219 [==============================] - 4s 20ms/step - loss: 2.5846 - accuracy: 0.3083 - val_loss: 2.5702 - val_accuracy: 0.3228\n",
            "Epoch 42/50\n",
            "219/219 [==============================] - 4s 19ms/step - loss: 2.5383 - accuracy: 0.3137 - val_loss: 2.5279 - val_accuracy: 0.3465\n",
            "Epoch 43/50\n",
            "219/219 [==============================] - 6s 25ms/step - loss: 2.5116 - accuracy: 0.3203 - val_loss: 2.4812 - val_accuracy: 0.3531\n",
            "Epoch 44/50\n",
            "219/219 [==============================] - 4s 20ms/step - loss: 2.4944 - accuracy: 0.3203 - val_loss: 2.4857 - val_accuracy: 0.3258\n",
            "Epoch 45/50\n",
            "219/219 [==============================] - 4s 19ms/step - loss: 2.4495 - accuracy: 0.3295 - val_loss: 2.4499 - val_accuracy: 0.3425\n",
            "Epoch 46/50\n",
            "219/219 [==============================] - 5s 25ms/step - loss: 2.4196 - accuracy: 0.3381 - val_loss: 2.4540 - val_accuracy: 0.3541\n",
            "Epoch 47/50\n",
            "219/219 [==============================] - 4s 19ms/step - loss: 2.4105 - accuracy: 0.3402 - val_loss: 2.3990 - val_accuracy: 0.3615\n",
            "Epoch 48/50\n",
            "219/219 [==============================] - 4s 20ms/step - loss: 2.3983 - accuracy: 0.3368 - val_loss: 2.3885 - val_accuracy: 0.3608\n",
            "Epoch 49/50\n",
            "219/219 [==============================] - 6s 25ms/step - loss: 2.3545 - accuracy: 0.3456 - val_loss: 2.3619 - val_accuracy: 0.3628\n",
            "Epoch 50/50\n",
            "219/219 [==============================] - 4s 20ms/step - loss: 2.3184 - accuracy: 0.3522 - val_loss: 2.3028 - val_accuracy: 0.3835\n"
          ]
        }
      ]
    },
    {
      "cell_type": "code",
      "metadata": {
        "id": "yFM1AExV9rHT",
        "colab": {
          "base_uri": "https://localhost:8080/",
          "height": 472
        },
        "outputId": "dda00c18-7017-4916-c11b-f1b0b982e1e6"
      },
      "source": [
        "plot_history(history)"
      ],
      "execution_count": null,
      "outputs": [
        {
          "output_type": "display_data",
          "data": {
            "text/plain": [
              "<Figure size 640x480 with 2 Axes>"
            ],
            "image/png": "[encoded data removed]"
          },
          "metadata": {}
        }
      ]
    },
    {
      "cell_type": "markdown",
      "metadata": {
        "id": "GuwGN4zWGTO8"
      },
      "source": [
        "## **CONVOLUTIONAL NEURAL NETWORK**"
      ]
    },
    {
      "cell_type": "code",
      "metadata": {
        "id": "I2wQFKoXDxkX"
      },
      "source": [
        "#create train/test split\n",
        "x_train,x_test,y_train,y_test = train_test_split(x,y,test_size=0.25)\n",
        "x_train,x_validation,y_train,y_validation = train_test_split(x_train,y_train, test_size=0.2)\n",
        "\n",
        "#add an axis to input sets\n",
        "x_train =x_train[...,np.newaxis]\n",
        "x_validation = x_validation[...,np.newaxis]\n",
        "x_test=x_test[...,np.newaxis]"
      ],
      "execution_count": null,
      "outputs": []
    },
    {
      "cell_type": "code",
      "metadata": {
        "id": "02NHBfSBH1HX",
        "colab": {
          "base_uri": "https://localhost:8080/"
        },
        "outputId": "571747d9-31a0-4cd3-a8f5-1f5d038ac266"
      },
      "source": [
        "x_train.shape"
      ],
      "execution_count": null,
      "outputs": [
        {
          "output_type": "execute_result",
          "data": {
            "text/plain": [
              "(5991, 130, 13, 1)"
            ]
          },
          "metadata": {},
          "execution_count": 20
        }
      ]
    },
    {
      "cell_type": "code",
      "metadata": {
        "id": "xO42IgilEEYE"
      },
      "source": [
        "input_shape = (x_train.shape[1], x_train.shape[2],1)"
      ],
      "execution_count": null,
      "outputs": []
    },
    {
      "cell_type": "code",
      "metadata": {
        "id": "51BsjbatHmqg"
      },
      "source": [
        "#build the CNN\n",
        "model_cnn = keras.Sequential()\n",
        "\n",
        "#1st conv layer\n",
        "model_cnn.add(keras.layers.Conv2D(32,(3,3),activation='relu',input_shape=input_shape))\n",
        "model_cnn.add(keras.layers.MaxPooling2D((3,3),strides=(2,2),padding='same'))\n",
        "model_cnn.add(keras.layers.BatchNormalization())\n",
        "\n",
        "#2nd conv layer\n",
        "model_cnn.add(keras.layers.Conv2D(32,(3,3),activation='relu'))\n",
        "model_cnn.add(keras.layers.MaxPooling2D((3,3),strides=(2,2),padding='same'))\n",
        "model_cnn.add(keras.layers.BatchNormalization())\n",
        "\n",
        "#3rd conv layer\n",
        "model_cnn.add(keras.layers.Conv2D(32,(2,2),activation='relu'))\n",
        "model_cnn.add(keras.layers.MaxPooling2D((3,3),strides=(2,2),padding='same'))\n",
        "model_cnn.add(keras.layers.BatchNormalization())\n",
        "\n",
        "#flatten output and feed it into dense layer\n",
        "model_cnn.add(keras.layers.Flatten())\n",
        "model_cnn.add(keras.layers.Dense(64,activation='relu'))\n",
        "model_cnn.add(keras.layers.Dropout(0.3))\n",
        "\n",
        "#output layer\n",
        "model_cnn.add(keras.layers.Dense(10,activation='softmax'))\n"
      ],
      "execution_count": null,
      "outputs": []
    },
    {
      "cell_type": "code",
      "metadata": {
        "id": "mrwB5o8tJjEN"
      },
      "source": [
        "#compile model\n",
        "optimiser = keras.optimizers.Adam(learning_rate=0.0001)\n",
        "model_cnn.compile(optimizer=optimiser,loss='sparse_categorical_crossentropy',metrics=['accuracy'])"
      ],
      "execution_count": null,
      "outputs": []
    },
    {
      "cell_type": "code",
      "metadata": {
        "id": "uzvhsK9XLY-z",
        "colab": {
          "base_uri": "https://localhost:8080/"
        },
        "outputId": "cb1cb30c-ec0f-4e6e-e902-fd207f202cc5"
      },
      "source": [
        "model_cnn.summary()"
      ],
      "execution_count": null,
      "outputs": [
        {
          "output_type": "stream",
          "name": "stdout",
          "text": [
            "Model: \"sequential_2\"\n",
            "_________________________________________________________________\n",
            " Layer (type)                Output Shape              Param #   \n",
            "=================================================================\n",
            " conv2d (Conv2D)             (None, 128, 11, 32)       320       \n",
            "                                                                 \n",
            " max_pooling2d (MaxPooling2  (None, 64, 6, 32)         0         \n",
            " D)                                                              \n",
            "                                                                 \n",
            " batch_normalization (Batch  (None, 64, 6, 32)         128       \n",
            " Normalization)                                                  \n",
            "                                                                 \n",
            " conv2d_1 (Conv2D)           (None, 62, 4, 32)         9248      \n",
            "                                                                 \n",
            " max_pooling2d_1 (MaxPoolin  (None, 31, 2, 32)         0         \n",
            " g2D)                                                            \n",
            "                                                                 \n",
            " batch_normalization_1 (Bat  (None, 31, 2, 32)         128       \n",
            " chNormalization)                                                \n",
            "                                                                 \n",
            " conv2d_2 (Conv2D)           (None, 30, 1, 32)         4128      \n",
            "                                                                 \n",
            " max_pooling2d_2 (MaxPoolin  (None, 15, 1, 32)         0         \n",
            " g2D)                                                            \n",
            "                                                                 \n",
            " batch_normalization_2 (Bat  (None, 15, 1, 32)         128       \n",
            " chNormalization)                                                \n",
            "                                                                 \n",
            " flatten_2 (Flatten)         (None, 480)               0         \n",
            "                                                                 \n",
            " dense_8 (Dense)             (None, 64)                30784     \n",
            "                                                                 \n",
            " dropout_3 (Dropout)         (None, 64)                0         \n",
            "                                                                 \n",
            " dense_9 (Dense)             (None, 10)                650       \n",
            "                                                                 \n",
            "=================================================================\n",
            "Total params: 45514 (177.79 KB)\n",
            "Trainable params: 45322 (177.04 KB)\n",
            "Non-trainable params: 192 (768.00 Byte)\n",
            "_________________________________________________________________\n"
          ]
        }
      ]
    },
    {
      "cell_type": "code",
      "metadata": {
        "id": "3dxuIsSsLkDL",
        "colab": {
          "base_uri": "https://localhost:8080/"
        },
        "outputId": "353e1bb6-bca1-411a-8cef-d8e969185681"
      },
      "source": [
        "#train model\n",
        "history = model_cnn.fit(x_train,y_train,validation_data=(x_validation,y_validation),batch_size=32,epochs=50)"
      ],
      "execution_count": null,
      "outputs": [
        {
          "output_type": "stream",
          "name": "stdout",
          "text": [
            "Epoch 1/50\n",
            "188/188 [==============================] - 14s 64ms/step - loss: 2.3506 - accuracy: 0.2364 - val_loss: 1.8951 - val_accuracy: 0.3144\n",
            "Epoch 2/50\n",
            "188/188 [==============================] - 11s 58ms/step - loss: 1.8188 - accuracy: 0.3610 - val_loss: 1.5651 - val_accuracy: 0.4319\n",
            "Epoch 3/50\n",
            "188/188 [==============================] - 12s 64ms/step - loss: 1.6123 - accuracy: 0.4248 - val_loss: 1.4137 - val_accuracy: 0.4820\n",
            "Epoch 4/50\n",
            "188/188 [==============================] - 12s 65ms/step - loss: 1.5124 - accuracy: 0.4560 - val_loss: 1.3236 - val_accuracy: 0.5087\n",
            "Epoch 5/50\n",
            "188/188 [==============================] - 12s 65ms/step - loss: 1.4234 - accuracy: 0.4982 - val_loss: 1.2461 - val_accuracy: 0.5454\n",
            "Epoch 6/50\n",
            "188/188 [==============================] - 14s 75ms/step - loss: 1.3343 - accuracy: 0.5231 - val_loss: 1.1890 - val_accuracy: 0.5674\n",
            "Epoch 7/50\n",
            "188/188 [==============================] - 13s 68ms/step - loss: 1.2737 - accuracy: 0.5475 - val_loss: 1.1442 - val_accuracy: 0.5848\n",
            "Epoch 8/50\n",
            "188/188 [==============================] - 12s 64ms/step - loss: 1.2334 - accuracy: 0.5488 - val_loss: 1.0968 - val_accuracy: 0.6088\n",
            "Epoch 9/50\n",
            "188/188 [==============================] - 11s 57ms/step - loss: 1.1826 - accuracy: 0.5752 - val_loss: 1.0691 - val_accuracy: 0.6115\n",
            "Epoch 10/50\n",
            "188/188 [==============================] - 12s 64ms/step - loss: 1.1435 - accuracy: 0.5877 - val_loss: 1.0399 - val_accuracy: 0.6215\n",
            "Epoch 11/50\n",
            "188/188 [==============================] - 12s 65ms/step - loss: 1.1103 - accuracy: 0.5966 - val_loss: 1.0077 - val_accuracy: 0.6315\n",
            "Epoch 12/50\n",
            "188/188 [==============================] - 12s 65ms/step - loss: 1.0876 - accuracy: 0.6084 - val_loss: 0.9773 - val_accuracy: 0.6435\n",
            "Epoch 13/50\n",
            "188/188 [==============================] - 12s 65ms/step - loss: 1.0501 - accuracy: 0.6274 - val_loss: 0.9630 - val_accuracy: 0.6662\n",
            "Epoch 14/50\n",
            "188/188 [==============================] - 12s 66ms/step - loss: 1.0232 - accuracy: 0.6335 - val_loss: 0.9358 - val_accuracy: 0.6662\n",
            "Epoch 15/50\n",
            "188/188 [==============================] - 12s 65ms/step - loss: 1.0011 - accuracy: 0.6470 - val_loss: 0.9293 - val_accuracy: 0.6595\n",
            "Epoch 16/50\n",
            "188/188 [==============================] - 11s 61ms/step - loss: 0.9773 - accuracy: 0.6518 - val_loss: 0.9173 - val_accuracy: 0.6736\n",
            "Epoch 17/50\n",
            "188/188 [==============================] - 11s 61ms/step - loss: 0.9429 - accuracy: 0.6620 - val_loss: 0.9104 - val_accuracy: 0.6789\n",
            "Epoch 18/50\n",
            "188/188 [==============================] - 12s 65ms/step - loss: 0.9365 - accuracy: 0.6695 - val_loss: 0.8842 - val_accuracy: 0.6822\n",
            "Epoch 19/50\n",
            "188/188 [==============================] - 12s 66ms/step - loss: 0.9074 - accuracy: 0.6730 - val_loss: 0.8856 - val_accuracy: 0.6829\n",
            "Epoch 20/50\n",
            "188/188 [==============================] - 12s 66ms/step - loss: 0.8888 - accuracy: 0.6740 - val_loss: 0.8666 - val_accuracy: 0.6876\n",
            "Epoch 21/50\n",
            "188/188 [==============================] - 12s 66ms/step - loss: 0.8507 - accuracy: 0.6969 - val_loss: 0.8563 - val_accuracy: 0.6969\n",
            "Epoch 22/50\n",
            "188/188 [==============================] - 14s 74ms/step - loss: 0.8348 - accuracy: 0.7052 - val_loss: 0.8727 - val_accuracy: 0.6876\n",
            "Epoch 23/50\n",
            "188/188 [==============================] - 12s 66ms/step - loss: 0.8367 - accuracy: 0.7034 - val_loss: 0.8354 - val_accuracy: 0.7003\n",
            "Epoch 24/50\n",
            "188/188 [==============================] - 12s 63ms/step - loss: 0.8193 - accuracy: 0.7044 - val_loss: 0.8278 - val_accuracy: 0.6903\n",
            "Epoch 25/50\n",
            "188/188 [==============================] - 11s 60ms/step - loss: 0.8050 - accuracy: 0.7151 - val_loss: 0.8136 - val_accuracy: 0.6996\n",
            "Epoch 26/50\n",
            "188/188 [==============================] - 12s 64ms/step - loss: 0.7874 - accuracy: 0.7251 - val_loss: 0.8101 - val_accuracy: 0.7009\n",
            "Epoch 27/50\n",
            "188/188 [==============================] - 12s 65ms/step - loss: 0.7833 - accuracy: 0.7211 - val_loss: 0.8406 - val_accuracy: 0.6989\n",
            "Epoch 28/50\n",
            "188/188 [==============================] - 12s 65ms/step - loss: 0.7612 - accuracy: 0.7283 - val_loss: 0.8334 - val_accuracy: 0.7009\n",
            "Epoch 29/50\n",
            "188/188 [==============================] - 12s 65ms/step - loss: 0.7352 - accuracy: 0.7458 - val_loss: 0.8046 - val_accuracy: 0.7116\n",
            "Epoch 30/50\n",
            "188/188 [==============================] - 12s 66ms/step - loss: 0.7257 - accuracy: 0.7379 - val_loss: 0.8106 - val_accuracy: 0.6996\n",
            "Epoch 31/50\n",
            "188/188 [==============================] - 12s 64ms/step - loss: 0.7070 - accuracy: 0.7588 - val_loss: 0.7981 - val_accuracy: 0.7243\n",
            "Epoch 32/50\n",
            "188/188 [==============================] - 12s 61ms/step - loss: 0.7008 - accuracy: 0.7515 - val_loss: 0.7655 - val_accuracy: 0.7263\n",
            "Epoch 33/50\n",
            "188/188 [==============================] - 12s 63ms/step - loss: 0.6849 - accuracy: 0.7611 - val_loss: 0.8117 - val_accuracy: 0.6949\n",
            "Epoch 34/50\n",
            "188/188 [==============================] - 13s 68ms/step - loss: 0.6843 - accuracy: 0.7516 - val_loss: 0.7830 - val_accuracy: 0.7103\n",
            "Epoch 35/50\n",
            "188/188 [==============================] - 12s 65ms/step - loss: 0.6763 - accuracy: 0.7586 - val_loss: 0.7690 - val_accuracy: 0.7216\n",
            "Epoch 36/50\n",
            "188/188 [==============================] - 12s 65ms/step - loss: 0.6551 - accuracy: 0.7703 - val_loss: 0.8069 - val_accuracy: 0.7103\n",
            "Epoch 37/50\n",
            "188/188 [==============================] - 14s 74ms/step - loss: 0.6611 - accuracy: 0.7651 - val_loss: 0.7827 - val_accuracy: 0.7250\n",
            "Epoch 38/50\n",
            "188/188 [==============================] - 13s 67ms/step - loss: 0.6432 - accuracy: 0.7752 - val_loss: 0.7832 - val_accuracy: 0.7183\n",
            "Epoch 39/50\n",
            "188/188 [==============================] - 15s 81ms/step - loss: 0.6300 - accuracy: 0.7793 - val_loss: 0.7812 - val_accuracy: 0.7196\n",
            "Epoch 40/50\n",
            "188/188 [==============================] - 13s 69ms/step - loss: 0.6132 - accuracy: 0.7845 - val_loss: 0.7861 - val_accuracy: 0.7296\n",
            "Epoch 41/50\n",
            "188/188 [==============================] - 12s 64ms/step - loss: 0.5993 - accuracy: 0.7873 - val_loss: 0.8030 - val_accuracy: 0.7163\n",
            "Epoch 42/50\n",
            "188/188 [==============================] - 12s 63ms/step - loss: 0.5766 - accuracy: 0.7960 - val_loss: 0.7776 - val_accuracy: 0.7243\n",
            "Epoch 43/50\n",
            "188/188 [==============================] - 12s 63ms/step - loss: 0.5829 - accuracy: 0.7935 - val_loss: 0.7709 - val_accuracy: 0.7350\n",
            "Epoch 44/50\n",
            "188/188 [==============================] - 12s 66ms/step - loss: 0.5898 - accuracy: 0.7882 - val_loss: 0.7666 - val_accuracy: 0.7263\n",
            "Epoch 45/50\n",
            "188/188 [==============================] - 12s 66ms/step - loss: 0.5563 - accuracy: 0.8049 - val_loss: 0.7629 - val_accuracy: 0.7256\n",
            "Epoch 46/50\n",
            "188/188 [==============================] - 12s 66ms/step - loss: 0.5605 - accuracy: 0.7979 - val_loss: 0.7521 - val_accuracy: 0.7210\n",
            "Epoch 47/50\n",
            "188/188 [==============================] - 13s 67ms/step - loss: 0.5436 - accuracy: 0.8129 - val_loss: 0.7615 - val_accuracy: 0.7377\n",
            "Epoch 48/50\n",
            "188/188 [==============================] - 12s 66ms/step - loss: 0.5392 - accuracy: 0.8110 - val_loss: 0.7510 - val_accuracy: 0.7316\n",
            "Epoch 49/50\n",
            "188/188 [==============================] - 12s 63ms/step - loss: 0.5203 - accuracy: 0.8129 - val_loss: 0.7352 - val_accuracy: 0.7450\n",
            "Epoch 50/50\n",
            "188/188 [==============================] - 12s 61ms/step - loss: 0.5196 - accuracy: 0.8144 - val_loss: 0.7602 - val_accuracy: 0.7290\n"
          ]
        }
      ]
    },
    {
      "cell_type": "code",
      "metadata": {
        "id": "fSmctWrOO_pS"
      },
      "source": [
        "model.save(\"CNN\")"
      ],
      "execution_count": null,
      "outputs": []
    },
    {
      "cell_type": "code",
      "metadata": {
        "id": "LE5AU-hm7SAa",
        "colab": {
          "base_uri": "https://localhost:8080/"
        },
        "outputId": "c3780ad2-b57b-4a67-fcfa-6c454fa91c44"
      },
      "source": [
        "x_to_predict = x_test[0][np.newaxis, ...]\n",
        "model.predict(x_to_predict)"
      ],
      "execution_count": null,
      "outputs": [
        {
          "output_type": "stream",
          "name": "stdout",
          "text": [
            "1/1 [==============================] - 0s 146ms/step\n"
          ]
        },
        {
          "output_type": "execute_result",
          "data": {
            "text/plain": [
              "array([[4.2166979e-05, 1.7642212e-11, 1.1309329e-03, 3.1091417e-03,\n",
              "        2.3202547e-04, 6.1856139e-05, 6.9924670e-07, 9.6345605e-07,\n",
              "        9.9502313e-01, 3.9918191e-04]], dtype=float32)"
            ]
          },
          "metadata": {},
          "execution_count": 27
        }
      ]
    },
    {
      "cell_type": "code",
      "metadata": {
        "id": "lQo4OPY7MDda",
        "colab": {
          "base_uri": "https://localhost:8080/",
          "height": 472
        },
        "outputId": "6846143b-16a0-4ae6-86f0-34c2bfaef6e7"
      },
      "source": [
        "#plot accuracy and error as a function of the epochs\n",
        "plot_history(history)"
      ],
      "execution_count": null,
      "outputs": [
        {
          "output_type": "display_data",
          "data": {
            "text/plain": [
              "<Figure size 640x480 with 2 Axes>"
            ],
            "image/png": "[encoded data removed]"
          },
          "metadata": {}
        }
      ]
    },
    {
      "cell_type": "code",
      "metadata": {
        "id": "Jeoa89_3Rsz-",
        "colab": {
          "base_uri": "https://localhost:8080/"
        },
        "outputId": "c4fd8a74-58f5-4169-f882-ace668d375d9"
      },
      "source": [
        "#evaluate model on Test set\n",
        "test_loss,test_acc=model_cnn.evaluate(x_test,y_test,verbose=2)\n",
        "print('\\n Test Accuracy:',test_acc)"
      ],
      "execution_count": null,
      "outputs": [
        {
          "output_type": "stream",
          "name": "stdout",
          "text": [
            "79/79 - 2s - loss: 0.7900 - accuracy: 0.7253 - 2s/epoch - 20ms/step\n",
            "\n",
            " Test Accuracy: 0.7252703309059143\n"
          ]
        }
      ]
    },
    {
      "cell_type": "code",
      "metadata": {
        "id": "hD9YEv7ESm9k"
      },
      "source": [
        "model_cnn.save(\"model\")"
      ],
      "execution_count": null,
      "outputs": []
    },
    {
      "cell_type": "code",
      "metadata": {
        "id": "pp9AYgsZS0r5",
        "colab": {
          "base_uri": "https://localhost:8080/"
        },
        "outputId": "66945106-d4be-41fb-dc7d-bf17901bf585"
      },
      "source": [
        "model_cnn.save(\"model.h5\")"
      ],
      "execution_count": null,
      "outputs": [
        {
          "output_type": "stream",
          "name": "stderr",
          "text": [
            "/usr/local/lib/python3.10/dist-packages/keras/src/engine/training.py:3103: UserWarning: You are saving your model as an HDF5 file via `model.save()`. This file format is considered legacy. We recommend using instead the native Keras format, e.g. `model.save('my_model.keras')`.\n",
            "  saving_api.save_model(\n"
          ]
        }
      ]
    },
    {
      "cell_type": "code",
      "metadata": {
        "id": "-4bO8WGLS3wH"
      },
      "source": [
        "#It can be used to reconstruct the model identically\n",
        "reconstructed_model = keras.models.load_model(\"model.h5\")"
      ],
      "execution_count": null,
      "outputs": []
    },
    {
      "cell_type": "markdown",
      "metadata": {
        "id": "_kjaqP14TQ4f"
      },
      "source": [
        "# **Prediction On Test Set**"
      ]
    },
    {
      "cell_type": "code",
      "metadata": {
        "id": "CObcffS6hgFd"
      },
      "source": [
        "from google.colab import drive\n",
        "drive.mount('/content/drive')"
      ],
      "execution_count": null,
      "outputs": []
    },
    {
      "cell_type": "code",
      "metadata": {
        "id": "yBfm3g4jTW59"
      },
      "source": [
        "#pick a sample to predict from the test set\n",
        "x_to_predict = x_test[100]\n",
        "y_to_predict = y_test[100]"
      ],
      "execution_count": null,
      "outputs": []
    },
    {
      "cell_type": "code",
      "metadata": {
        "id": "YZJyj4DrVIA9",
        "colab": {
          "base_uri": "https://localhost:8080/"
        },
        "outputId": "9775070c-f667-4afa-a311-5245c601eb75"
      },
      "source": [
        "x_to_predict.shape"
      ],
      "execution_count": null,
      "outputs": [
        {
          "output_type": "execute_result",
          "data": {
            "text/plain": [
              "(130, 13, 1)"
            ]
          },
          "metadata": {},
          "execution_count": 34
        }
      ]
    },
    {
      "cell_type": "code",
      "metadata": {
        "id": "FteKK-I_VUvU",
        "colab": {
          "base_uri": "https://localhost:8080/"
        },
        "outputId": "a3214996-7bf3-4427-fc14-51c29c262383"
      },
      "source": [
        "print(\"Real Genre:\",y_to_predict)"
      ],
      "execution_count": null,
      "outputs": [
        {
          "output_type": "stream",
          "name": "stdout",
          "text": [
            "Real Genre: 3\n"
          ]
        }
      ]
    },
    {
      "cell_type": "code",
      "metadata": {
        "id": "GuR1CZzaVkwZ"
      },
      "source": [
        "#add a dimension to input data for sample , model.pedict() expects a 4d array in this case\n",
        "x_to_predict = x_to_predict[np.newaxis, ...] #array hape(1,130,13,1)"
      ],
      "execution_count": null,
      "outputs": []
    },
    {
      "cell_type": "code",
      "metadata": {
        "id": "hJyoY4k9V_Wa",
        "colab": {
          "base_uri": "https://localhost:8080/"
        },
        "outputId": "7646c0ed-4b8f-45b2-ec27-d95850ff53d7"
      },
      "source": [
        "x_to_predict.shape"
      ],
      "execution_count": null,
      "outputs": [
        {
          "output_type": "execute_result",
          "data": {
            "text/plain": [
              "(1, 130, 13, 1)"
            ]
          },
          "metadata": {},
          "execution_count": 37
        }
      ]
    },
    {
      "cell_type": "code",
      "metadata": {
        "id": "4h3IToGQWC5d",
        "colab": {
          "base_uri": "https://localhost:8080/"
        },
        "outputId": "fdd5e785-bedc-46ca-b461-c27a05d8ede4"
      },
      "source": [
        "#perform prediction\n",
        "prediction = model_cnn.predict(x_to_predict)"
      ],
      "execution_count": null,
      "outputs": [
        {
          "output_type": "stream",
          "name": "stdout",
          "text": [
            "1/1 [==============================] - 0s 135ms/step\n"
          ]
        }
      ]
    },
    {
      "cell_type": "code",
      "metadata": {
        "id": "lFSPIqt_WNo6",
        "colab": {
          "base_uri": "https://localhost:8080/"
        },
        "outputId": "b91ef00a-fac1-4f66-dffe-e4da74e57c59"
      },
      "source": [
        "#get index with max value\n",
        "predicted_index = np.argmax(prediction, axis=1)\n",
        "\n",
        "print(\"Predicted Genre:\",int(predicted_index))"
      ],
      "execution_count": null,
      "outputs": [
        {
          "output_type": "stream",
          "name": "stdout",
          "text": [
            "Predicted Genre: 3\n"
          ]
        },
        {
          "output_type": "stream",
          "name": "stderr",
          "text": [
            "<ipython-input-39-c9d8896dd481>:4: DeprecationWarning: Conversion of an array with ndim > 0 to a scalar is deprecated, and will error in future. Ensure you extract a single element from your array before performing this operation. (Deprecated NumPy 1.25.)\n",
            "  print(\"Predicted Genre:\",int(predicted_index))\n"
          ]
        }
      ]
    },
    {
      "cell_type": "code",
      "metadata": {
        "id": "uRzslkQLWh6_",
        "colab": {
          "base_uri": "https://localhost:8080/"
        },
        "outputId": "7a13e175-8243-43c9-b475-5af24477896a"
      },
      "source": [
        "#pick a sample to predict from the test set\n",
        "x_to_predict = x_test[50]\n",
        "y_to_predict = y_test[50]\n",
        "\n",
        "print(\"Real Genre:\",y_to_predict)\n",
        "\n",
        "x_to_predict = x_to_predict[np.newaxis, ...]\n",
        "\n",
        "prediction = model_cnn.predict(x_to_predict)\n",
        "\n",
        "#get index with max value\n",
        "predicted_index = np.argmax(prediction, axis=1)\n",
        "\n",
        "print(\"Predicted Genre:\",int(predicted_index))\n"
      ],
      "execution_count": null,
      "outputs": [
        {
          "output_type": "stream",
          "name": "stdout",
          "text": [
            "Real Genre: 4\n",
            "1/1 [==============================] - 0s 25ms/step\n",
            "Predicted Genre: 4\n"
          ]
        },
        {
          "output_type": "stream",
          "name": "stderr",
          "text": [
            "<ipython-input-40-b0a476e5db0c>:14: DeprecationWarning: Conversion of an array with ndim > 0 to a scalar is deprecated, and will error in future. Ensure you extract a single element from your array before performing this operation. (Deprecated NumPy 1.25.)\n",
            "  print(\"Predicted Genre:\",int(predicted_index))\n"
          ]
        }
      ]
    },
    {
      "cell_type": "code",
      "metadata": {
        "id": "sn5DSsDPXY3_",
        "colab": {
          "base_uri": "https://localhost:8080/"
        },
        "outputId": "89a48c89-d326-4ac6-97df-eb962a07de66"
      },
      "source": [
        "len(x_test)"
      ],
      "execution_count": null,
      "outputs": [
        {
          "output_type": "execute_result",
          "data": {
            "text/plain": [
              "2497"
            ]
          },
          "metadata": {},
          "execution_count": 41
        }
      ]
    },
    {
      "cell_type": "code",
      "metadata": {
        "id": "NW9Cp9RAXbMF",
        "colab": {
          "base_uri": "https://localhost:8080/"
        },
        "outputId": "6b37ebe0-824c-4c96-f36c-f189bf222804"
      },
      "source": [
        "for n in range(10):\n",
        "\n",
        "  i=random.randint(0,len(x_test))\n",
        "  #pick a sample to predict from the test set\n",
        "  x_to_predict = x_test[i]\n",
        "  y_to_predict = y_test[i]\n",
        "\n",
        "  print(\"Real Genre:\",y_to_predict)\n",
        "\n",
        "  x_to_predict = x_to_predict[np.newaxis, ...]\n",
        "\n",
        "  prediction = model_cnn.predict(x_to_predict)\n",
        "\n",
        "  #get index with max value\n",
        "  predicted_index = np.argmax(prediction, axis=1)\n",
        "\n",
        "  print(\"Predicted Genre:\",int(predicted_index))\n"
      ],
      "execution_count": null,
      "outputs": [
        {
          "output_type": "stream",
          "name": "stdout",
          "text": [
            "Real Genre: 6\n",
            "1/1 [==============================] - 0s 23ms/step\n",
            "Predicted Genre: 6\n",
            "Real Genre: 3\n",
            "1/1 [==============================] - 0s 22ms/step\n",
            "Predicted Genre: 3\n",
            "Real Genre: 1\n",
            "1/1 [==============================] - 0s 23ms/step\n",
            "Predicted Genre: 1\n",
            "Real Genre: 2\n"
          ]
        },
        {
          "output_type": "stream",
          "name": "stderr",
          "text": [
            "<ipython-input-42-3687a506114c>:17: DeprecationWarning: Conversion of an array with ndim > 0 to a scalar is deprecated, and will error in future. Ensure you extract a single element from your array before performing this operation. (Deprecated NumPy 1.25.)\n",
            "  print(\"Predicted Genre:\",int(predicted_index))\n"
          ]
        },
        {
          "output_type": "stream",
          "name": "stdout",
          "text": [
            "1/1 [==============================] - 0s 23ms/step\n",
            "Predicted Genre: 2\n",
            "Real Genre: 1\n",
            "1/1 [==============================] - 0s 28ms/step\n",
            "Predicted Genre: 1\n",
            "Real Genre: 9\n",
            "1/1 [==============================] - 0s 24ms/step\n",
            "Predicted Genre: 9\n",
            "Real Genre: 8\n",
            "1/1 [==============================] - 0s 24ms/step\n",
            "Predicted Genre: 9\n",
            "Real Genre: 9\n",
            "1/1 [==============================] - 0s 33ms/step\n",
            "Predicted Genre: 2\n",
            "Real Genre: 5\n",
            "1/1 [==============================] - 0s 28ms/step\n",
            "Predicted Genre: 5\n",
            "Real Genre: 6\n",
            "1/1 [==============================] - 0s 23ms/step\n",
            "Predicted Genre: 6\n"
          ]
        }
      ]
    }
  ]
}